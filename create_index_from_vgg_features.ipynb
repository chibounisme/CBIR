{
 "cells": [
  {
   "cell_type": "code",
   "execution_count": 1,
   "metadata": {},
   "outputs": [],
   "source": [
    "import pandas as pd\n",
    "from feature_extractor import FeatureExtractor\n",
    "from skimage import io\n",
    "import cv2\n",
    "from annoy import AnnoyIndex"
   ]
  },
  {
   "cell_type": "code",
   "execution_count": 2,
   "metadata": {},
   "outputs": [],
   "source": [
    "df = pd.DataFrame()"
   ]
  },
  {
   "cell_type": "code",
   "execution_count": null,
   "metadata": {},
   "outputs": [],
   "source": [
    "for i in range(100):\n",
    "    file_name = f'vgg_features_clean/features_00{i}.csv'\n",
    "    print(file_name)\n",
    "    df = df.append(pd.read_csv(file_name))"
   ]
  },
  {
   "cell_type": "code",
   "execution_count": null,
   "metadata": {},
   "outputs": [],
   "source": [
    "t = AnnoyIndex(4096, metric='manhattan')\n",
    "for i in range(1000000):\n",
    "    row = df.iloc[i].to_numpy()\n",
    "    t.add_item(i, row)\n",
    "    \n",
    "t.build(n_trees=30)"
   ]
  },
  {
   "cell_type": "code",
   "execution_count": 3,
   "metadata": {},
   "outputs": [],
   "source": [
    "fe = FeatureExtractor()"
   ]
  },
  {
   "cell_type": "code",
   "execution_count": null,
   "metadata": {},
   "outputs": [],
   "source": [
    "def get_similar_images_annoy(img_vector):\n",
    "    similar_img_ids = t.get_nns_by_vector(img_vector, 50)\n",
    "    return df.iloc[similar_img_ids]"
   ]
  },
  {
   "cell_type": "code",
   "execution_count": null,
   "metadata": {},
   "outputs": [],
   "source": [
    "img_url = 'https://i.eurosport.com/2021/11/16/3255334-66623948-2560-1440.jpg'\n",
    "img = io.imread(img_url)\n",
    "img = cv2.resize(img,(224, 224))\n",
    "features = fe.extract(img)\n",
    "similar_img_df = get_similar_images_annoy(features)\n",
    "print(similar_img_df.index)"
   ]
  }
 ],
 "metadata": {
  "interpreter": {
   "hash": "2db524e06e9f5f4ffedc911c917cb75e12dbc923643829bf417064a77eb14d37"
  },
  "kernelspec": {
   "display_name": "Python 3.8.0 64-bit",
   "language": "python",
   "name": "python3"
  },
  "language_info": {
   "codemirror_mode": {
    "name": "ipython",
    "version": 3
   },
   "file_extension": ".py",
   "mimetype": "text/x-python",
   "name": "python",
   "nbconvert_exporter": "python",
   "pygments_lexer": "ipython3",
   "version": "3.8.8"
  },
  "orig_nbformat": 4
 },
 "nbformat": 4,
 "nbformat_minor": 2
}
